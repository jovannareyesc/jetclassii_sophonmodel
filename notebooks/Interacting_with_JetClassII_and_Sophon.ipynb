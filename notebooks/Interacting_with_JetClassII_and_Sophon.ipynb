{
  "cells": [
    {
      "cell_type": "markdown",
      "metadata": {
        "id": "ZLy6ztqXx0Si"
      },
      "source": [
        "# Interacting with JetClass-II and the Sophon model\n",
        "\n",
        "This is a self-contained notebook that\n",
        "\n",
        " - explores the JetClass-II dataset, and visualizes jet samples as point clouds\n",
        " - infers the Sophon model via ONNX in Python and inspects its output nodes  \n",
        "\n",
        "If you are looking for a C++ n-tuplizer to proceed Delphes ROOT files and integrate the Sophon model, refer to [this section](https://github.com/jet-universe/sophon/tree/main?tab=readme-ov-file#c-workflow-for-analyzing-delphes-files).\n",
        "\n",
        "This notebook is designed to [run on Google Colab](https://colab.research.google.com/github/jet-universe/sophon/blob/main/notebooks/Interacting_with_JetClassII_and_Sophon.ipynb)."
      ]
    },
    {
      "cell_type": "markdown",
      "metadata": {
        "id": "Yny-wwkPx0Sm"
      },
      "source": [
        "## Install dependencies"
      ]
    },
    {
      "cell_type": "code",
      "execution_count": null,
      "metadata": {
        "colab": {
          "base_uri": "https://localhost:8080/",
          "height": 1000
        },
        "id": "VdsxRGM6x0Sn",
        "outputId": "6d99062c-381f-4b9b-acb0-3a5a2c82dac0"
      },
      "outputs": [
        {
          "output_type": "stream",
          "name": "stdout",
          "text": [
            "Collecting weaver-core\n",
            "  Downloading weaver_core-0.4.17-py3-none-any.whl.metadata (16 kB)\n",
            "Collecting numpy<2.0.0,>=1.19.5 (from weaver-core)\n",
            "  Downloading numpy-1.26.4-cp311-cp311-manylinux_2_17_x86_64.manylinux2014_x86_64.whl.metadata (61 kB)\n",
            "\u001b[2K     \u001b[90m━━━━━━━━━━━━━━━━━━━━━━━━━━━━━━━━━━━━━━━━\u001b[0m \u001b[32m61.0/61.0 kB\u001b[0m \u001b[31m1.9 MB/s\u001b[0m eta \u001b[36m0:00:00\u001b[0m\n",
            "\u001b[?25hRequirement already satisfied: scipy>=1.5.2 in /usr/local/lib/python3.11/dist-packages (from weaver-core) (1.15.3)\n",
            "Requirement already satisfied: pandas>=1.1.3 in /usr/local/lib/python3.11/dist-packages (from weaver-core) (2.2.2)\n",
            "Requirement already satisfied: scikit-learn>=1.0.1 in /usr/local/lib/python3.11/dist-packages (from weaver-core) (1.6.1)\n",
            "Requirement already satisfied: matplotlib>=3.3.0 in /usr/local/lib/python3.11/dist-packages (from weaver-core) (3.10.0)\n",
            "Requirement already satisfied: tqdm>=4.41.0 in /usr/local/lib/python3.11/dist-packages (from weaver-core) (4.67.1)\n",
            "Requirement already satisfied: PyYAML>=5.4 in /usr/local/lib/python3.11/dist-packages (from weaver-core) (6.0.2)\n",
            "Collecting awkward0>=0.15.5 (from weaver-core)\n",
            "  Downloading awkward0-0.15.5-py3-none-any.whl.metadata (4.2 kB)\n",
            "Collecting uproot<5.2.0,>=4.2.0 (from weaver-core)\n",
            "  Downloading uproot-5.1.2-py3-none-any.whl.metadata (29 kB)\n",
            "Collecting awkward>=1.8.0 (from weaver-core)\n",
            "  Downloading awkward-2.8.5-py3-none-any.whl.metadata (6.9 kB)\n",
            "Collecting vector>=0.9.0 (from weaver-core)\n",
            "  Downloading vector-1.6.3-py3-none-any.whl.metadata (16 kB)\n",
            "Collecting lz4>=3.1.0 (from weaver-core)\n",
            "  Downloading lz4-4.4.4-cp311-cp311-manylinux_2_17_x86_64.manylinux2014_x86_64.whl.metadata (3.8 kB)\n",
            "Requirement already satisfied: xxhash>=1.4.4 in /usr/local/lib/python3.11/dist-packages (from weaver-core) (3.5.0)\n",
            "Requirement already satisfied: tables>=3.6.1 in /usr/local/lib/python3.11/dist-packages (from weaver-core) (3.10.2)\n",
            "Requirement already satisfied: tensorboard>=2.2.0 in /usr/local/lib/python3.11/dist-packages (from weaver-core) (2.18.0)\n",
            "Collecting awkward-cpp==47 (from awkward>=1.8.0->weaver-core)\n",
            "  Downloading awkward_cpp-47-cp311-cp311-manylinux_2_27_x86_64.manylinux_2_28_x86_64.whl.metadata (2.1 kB)\n",
            "Requirement already satisfied: fsspec>=2022.11.0 in /usr/local/lib/python3.11/dist-packages (from awkward>=1.8.0->weaver-core) (2025.3.2)\n",
            "Requirement already satisfied: importlib-metadata>=4.13.0 in /usr/local/lib/python3.11/dist-packages (from awkward>=1.8.0->weaver-core) (8.7.0)\n",
            "Requirement already satisfied: packaging in /usr/local/lib/python3.11/dist-packages (from awkward>=1.8.0->weaver-core) (25.0)\n",
            "Requirement already satisfied: contourpy>=1.0.1 in /usr/local/lib/python3.11/dist-packages (from matplotlib>=3.3.0->weaver-core) (1.3.2)\n",
            "Requirement already satisfied: cycler>=0.10 in /usr/local/lib/python3.11/dist-packages (from matplotlib>=3.3.0->weaver-core) (0.12.1)\n",
            "Requirement already satisfied: fonttools>=4.22.0 in /usr/local/lib/python3.11/dist-packages (from matplotlib>=3.3.0->weaver-core) (4.58.5)\n",
            "Requirement already satisfied: kiwisolver>=1.3.1 in /usr/local/lib/python3.11/dist-packages (from matplotlib>=3.3.0->weaver-core) (1.4.8)\n",
            "Requirement already satisfied: pillow>=8 in /usr/local/lib/python3.11/dist-packages (from matplotlib>=3.3.0->weaver-core) (11.2.1)\n",
            "Requirement already satisfied: pyparsing>=2.3.1 in /usr/local/lib/python3.11/dist-packages (from matplotlib>=3.3.0->weaver-core) (3.2.3)\n",
            "Requirement already satisfied: python-dateutil>=2.7 in /usr/local/lib/python3.11/dist-packages (from matplotlib>=3.3.0->weaver-core) (2.9.0.post0)\n",
            "Requirement already satisfied: pytz>=2020.1 in /usr/local/lib/python3.11/dist-packages (from pandas>=1.1.3->weaver-core) (2025.2)\n",
            "Requirement already satisfied: tzdata>=2022.7 in /usr/local/lib/python3.11/dist-packages (from pandas>=1.1.3->weaver-core) (2025.2)\n",
            "Requirement already satisfied: joblib>=1.2.0 in /usr/local/lib/python3.11/dist-packages (from scikit-learn>=1.0.1->weaver-core) (1.5.1)\n",
            "Requirement already satisfied: threadpoolctl>=3.1.0 in /usr/local/lib/python3.11/dist-packages (from scikit-learn>=1.0.1->weaver-core) (3.6.0)\n",
            "Requirement already satisfied: numexpr>=2.6.2 in /usr/local/lib/python3.11/dist-packages (from tables>=3.6.1->weaver-core) (2.11.0)\n",
            "Requirement already satisfied: py-cpuinfo in /usr/local/lib/python3.11/dist-packages (from tables>=3.6.1->weaver-core) (9.0.0)\n",
            "Requirement already satisfied: blosc2>=2.3.0 in /usr/local/lib/python3.11/dist-packages (from tables>=3.6.1->weaver-core) (3.5.1)\n",
            "Requirement already satisfied: typing-extensions>=4.4.0 in /usr/local/lib/python3.11/dist-packages (from tables>=3.6.1->weaver-core) (4.14.1)\n",
            "Requirement already satisfied: absl-py>=0.4 in /usr/local/lib/python3.11/dist-packages (from tensorboard>=2.2.0->weaver-core) (1.4.0)\n",
            "Requirement already satisfied: grpcio>=1.48.2 in /usr/local/lib/python3.11/dist-packages (from tensorboard>=2.2.0->weaver-core) (1.73.1)\n",
            "Requirement already satisfied: markdown>=2.6.8 in /usr/local/lib/python3.11/dist-packages (from tensorboard>=2.2.0->weaver-core) (3.8.2)\n",
            "Requirement already satisfied: protobuf!=4.24.0,>=3.19.6 in /usr/local/lib/python3.11/dist-packages (from tensorboard>=2.2.0->weaver-core) (5.29.5)\n",
            "Requirement already satisfied: setuptools>=41.0.0 in /usr/local/lib/python3.11/dist-packages (from tensorboard>=2.2.0->weaver-core) (75.2.0)\n",
            "Requirement already satisfied: six>1.9 in /usr/local/lib/python3.11/dist-packages (from tensorboard>=2.2.0->weaver-core) (1.17.0)\n",
            "Requirement already satisfied: tensorboard-data-server<0.8.0,>=0.7.0 in /usr/local/lib/python3.11/dist-packages (from tensorboard>=2.2.0->weaver-core) (0.7.2)\n",
            "Requirement already satisfied: werkzeug>=1.0.1 in /usr/local/lib/python3.11/dist-packages (from tensorboard>=2.2.0->weaver-core) (3.1.3)\n",
            "Requirement already satisfied: ndindex in /usr/local/lib/python3.11/dist-packages (from blosc2>=2.3.0->tables>=3.6.1->weaver-core) (1.10.0)\n",
            "Requirement already satisfied: msgpack in /usr/local/lib/python3.11/dist-packages (from blosc2>=2.3.0->tables>=3.6.1->weaver-core) (1.1.1)\n",
            "Requirement already satisfied: platformdirs in /usr/local/lib/python3.11/dist-packages (from blosc2>=2.3.0->tables>=3.6.1->weaver-core) (4.3.8)\n",
            "Requirement already satisfied: requests in /usr/local/lib/python3.11/dist-packages (from blosc2>=2.3.0->tables>=3.6.1->weaver-core) (2.32.3)\n",
            "Requirement already satisfied: zipp>=3.20 in /usr/local/lib/python3.11/dist-packages (from importlib-metadata>=4.13.0->awkward>=1.8.0->weaver-core) (3.23.0)\n",
            "Requirement already satisfied: MarkupSafe>=2.1.1 in /usr/local/lib/python3.11/dist-packages (from werkzeug>=1.0.1->tensorboard>=2.2.0->weaver-core) (3.0.2)\n",
            "Requirement already satisfied: charset-normalizer<4,>=2 in /usr/local/lib/python3.11/dist-packages (from requests->blosc2>=2.3.0->tables>=3.6.1->weaver-core) (3.4.2)\n",
            "Requirement already satisfied: idna<4,>=2.5 in /usr/local/lib/python3.11/dist-packages (from requests->blosc2>=2.3.0->tables>=3.6.1->weaver-core) (3.10)\n",
            "Requirement already satisfied: urllib3<3,>=1.21.1 in /usr/local/lib/python3.11/dist-packages (from requests->blosc2>=2.3.0->tables>=3.6.1->weaver-core) (2.4.0)\n",
            "Requirement already satisfied: certifi>=2017.4.17 in /usr/local/lib/python3.11/dist-packages (from requests->blosc2>=2.3.0->tables>=3.6.1->weaver-core) (2025.7.14)\n",
            "Downloading weaver_core-0.4.17-py3-none-any.whl (74 kB)\n",
            "\u001b[2K   \u001b[90m━━━━━━━━━━━━━━━━━━━━━━━━━━━━━━━━━━━━━━━━\u001b[0m \u001b[32m74.5/74.5 kB\u001b[0m \u001b[31m2.7 MB/s\u001b[0m eta \u001b[36m0:00:00\u001b[0m\n",
            "\u001b[?25hDownloading awkward-2.8.5-py3-none-any.whl (886 kB)\n",
            "\u001b[2K   \u001b[90m━━━━━━━━━━━━━━━━━━━━━━━━━━━━━━━━━━━━━━━━\u001b[0m \u001b[32m886.8/886.8 kB\u001b[0m \u001b[31m21.1 MB/s\u001b[0m eta \u001b[36m0:00:00\u001b[0m\n",
            "\u001b[?25hDownloading awkward_cpp-47-cp311-cp311-manylinux_2_27_x86_64.manylinux_2_28_x86_64.whl (638 kB)\n",
            "\u001b[2K   \u001b[90m━━━━━━━━━━━━━━━━━━━━━━━━━━━━━━━━━━━━━━━━\u001b[0m \u001b[32m638.8/638.8 kB\u001b[0m \u001b[31m33.6 MB/s\u001b[0m eta \u001b[36m0:00:00\u001b[0m\n",
            "\u001b[?25hDownloading awkward0-0.15.5-py3-none-any.whl (87 kB)\n",
            "\u001b[2K   \u001b[90m━━━━━━━━━━━━━━━━━━━━━━━━━━━━━━━━━━━━━━━━\u001b[0m \u001b[32m87.6/87.6 kB\u001b[0m \u001b[31m6.1 MB/s\u001b[0m eta \u001b[36m0:00:00\u001b[0m\n",
            "\u001b[?25hDownloading lz4-4.4.4-cp311-cp311-manylinux_2_17_x86_64.manylinux2014_x86_64.whl (1.3 MB)\n",
            "\u001b[2K   \u001b[90m━━━━━━━━━━━━━━━━━━━━━━━━━━━━━━━━━━━━━━━━\u001b[0m \u001b[32m1.3/1.3 MB\u001b[0m \u001b[31m39.7 MB/s\u001b[0m eta \u001b[36m0:00:00\u001b[0m\n",
            "\u001b[?25hDownloading numpy-1.26.4-cp311-cp311-manylinux_2_17_x86_64.manylinux2014_x86_64.whl (18.3 MB)\n",
            "\u001b[2K   \u001b[90m━━━━━━━━━━━━━━━━━━━━━━━━━━━━━━━━━━━━━━━━\u001b[0m \u001b[32m18.3/18.3 MB\u001b[0m \u001b[31m84.5 MB/s\u001b[0m eta \u001b[36m0:00:00\u001b[0m\n",
            "\u001b[?25hDownloading uproot-5.1.2-py3-none-any.whl (342 kB)\n",
            "\u001b[2K   \u001b[90m━━━━━━━━━━━━━━━━━━━━━━━━━━━━━━━━━━━━━━━━\u001b[0m \u001b[32m342.7/342.7 kB\u001b[0m \u001b[31m21.5 MB/s\u001b[0m eta \u001b[36m0:00:00\u001b[0m\n",
            "\u001b[?25hDownloading vector-1.6.3-py3-none-any.whl (179 kB)\n",
            "\u001b[2K   \u001b[90m━━━━━━━━━━━━━━━━━━━━━━━━━━━━━━━━━━━━━━━━\u001b[0m \u001b[32m179.6/179.6 kB\u001b[0m \u001b[31m12.2 MB/s\u001b[0m eta \u001b[36m0:00:00\u001b[0m\n",
            "\u001b[?25hInstalling collected packages: numpy, lz4, vector, awkward0, awkward-cpp, awkward, uproot, weaver-core\n",
            "  Attempting uninstall: numpy\n",
            "    Found existing installation: numpy 2.0.2\n",
            "    Uninstalling numpy-2.0.2:\n",
            "      Successfully uninstalled numpy-2.0.2\n",
            "\u001b[31mERROR: pip's dependency resolver does not currently take into account all the packages that are installed. This behaviour is the source of the following dependency conflicts.\n",
            "opencv-python-headless 4.12.0.88 requires numpy<2.3.0,>=2; python_version >= \"3.9\", but you have numpy 1.26.4 which is incompatible.\n",
            "thinc 8.3.6 requires numpy<3.0.0,>=2.0.0, but you have numpy 1.26.4 which is incompatible.\u001b[0m\u001b[31m\n",
            "\u001b[0mSuccessfully installed awkward-2.8.5 awkward-cpp-47 awkward0-0.15.5 lz4-4.4.4 numpy-1.26.4 uproot-5.1.2 vector-1.6.3 weaver-core-0.4.17\n"
          ]
        },
        {
          "output_type": "display_data",
          "data": {
            "application/vnd.colab-display-data+json": {
              "pip_warning": {
                "packages": [
                  "numpy"
                ]
              },
              "id": "6732ae33b75d4c5c9fb64fb177a234e0"
            }
          },
          "metadata": {}
        },
        {
          "output_type": "stream",
          "name": "stdout",
          "text": [
            "Collecting onnxruntime\n",
            "  Downloading onnxruntime-1.22.1-cp311-cp311-manylinux_2_27_x86_64.manylinux_2_28_x86_64.whl.metadata (4.6 kB)\n",
            "Collecting coloredlogs (from onnxruntime)\n",
            "  Downloading coloredlogs-15.0.1-py2.py3-none-any.whl.metadata (12 kB)\n",
            "Requirement already satisfied: flatbuffers in /usr/local/lib/python3.11/dist-packages (from onnxruntime) (25.2.10)\n",
            "Requirement already satisfied: numpy>=1.21.6 in /usr/local/lib/python3.11/dist-packages (from onnxruntime) (1.26.4)\n",
            "Requirement already satisfied: packaging in /usr/local/lib/python3.11/dist-packages (from onnxruntime) (25.0)\n",
            "Requirement already satisfied: protobuf in /usr/local/lib/python3.11/dist-packages (from onnxruntime) (5.29.5)\n",
            "Requirement already satisfied: sympy in /usr/local/lib/python3.11/dist-packages (from onnxruntime) (1.13.1)\n",
            "Collecting humanfriendly>=9.1 (from coloredlogs->onnxruntime)\n",
            "  Downloading humanfriendly-10.0-py2.py3-none-any.whl.metadata (9.2 kB)\n",
            "Requirement already satisfied: mpmath<1.4,>=1.1.0 in /usr/local/lib/python3.11/dist-packages (from sympy->onnxruntime) (1.3.0)\n",
            "Downloading onnxruntime-1.22.1-cp311-cp311-manylinux_2_27_x86_64.manylinux_2_28_x86_64.whl (16.5 MB)\n",
            "\u001b[2K   \u001b[90m━━━━━━━━━━━━━━━━━━━━━━━━━━━━━━━━━━━━━━━━\u001b[0m \u001b[32m16.5/16.5 MB\u001b[0m \u001b[31m68.0 MB/s\u001b[0m eta \u001b[36m0:00:00\u001b[0m\n",
            "\u001b[?25hDownloading coloredlogs-15.0.1-py2.py3-none-any.whl (46 kB)\n",
            "\u001b[2K   \u001b[90m━━━━━━━━━━━━━━━━━━━━━━━━━━━━━━━━━━━━━━━━\u001b[0m \u001b[32m46.0/46.0 kB\u001b[0m \u001b[31m3.0 MB/s\u001b[0m eta \u001b[36m0:00:00\u001b[0m\n",
            "\u001b[?25hDownloading humanfriendly-10.0-py2.py3-none-any.whl (86 kB)\n",
            "\u001b[2K   \u001b[90m━━━━━━━━━━━━━━━━━━━━━━━━━━━━━━━━━━━━━━━━\u001b[0m \u001b[32m86.8/86.8 kB\u001b[0m \u001b[31m5.6 MB/s\u001b[0m eta \u001b[36m0:00:00\u001b[0m\n",
            "\u001b[?25h^C\n"
          ]
        }
      ],
      "source": [
        "! pip install weaver-core\n",
        "! pip install onnxruntime\n",
        "#! pip install torch torchvision torchaudio # google colab has torch installed"
      ]
    },
    {
      "cell_type": "markdown",
      "metadata": {
        "id": "gYfV8pMmx0So"
      },
      "source": [
        "# Exploring JetClass-II\n",
        "\n",
        "Load a few entries from JetClass-II as an example and display their data structure."
      ]
    },
    {
      "cell_type": "code",
      "execution_count": 1,
      "metadata": {
        "colab": {
          "base_uri": "https://localhost:8080/"
        },
        "id": "OpsUq3RWyF1g",
        "outputId": "f2da29ea-26b2-4f79-d468-609ae1731d6b"
      },
      "outputs": [
        {
          "output_type": "stream",
          "name": "stdout",
          "text": [
            "2025-07-17 23:16:53 URL:https://raw.githubusercontent.com/jet-universe/sophon/main/notebooks/JetClassII_example.parquet [447746/447746] -> \"JetClassII_example.parquet\" [1]\n"
          ]
        }
      ],
      "source": [
        "! wget --no-verbose https://github.com/jet-universe/sophon/raw/main/notebooks/JetClassII_example.parquet"
      ]
    },
    {
      "cell_type": "code",
      "execution_count": 2,
      "metadata": {
        "colab": {
          "base_uri": "https://localhost:8080/",
          "height": 642
        },
        "id": "Ap2uAcSdx0Sp",
        "outputId": "dedf9702-aaca-4162-a5d6-41915edf8092"
      },
      "outputs": [
        {
          "output_type": "execute_result",
          "data": {
            "text/html": [
              "<pre>[{part_px: [-202, -140, ..., -0.491], part_py: [29, ...], part_pz: [...], ...},\n",
              " {part_px: [34, 21.7, ..., 0.491, 0.405], part_py: [...], part_pz: [...], ...},\n",
              " {part_px: [-99.6, -17.8, ..., -0.48], part_py: [-27.3, ...], ...},\n",
              " {part_px: [-17.1, -17.5, ..., -0.109], part_py: [-58.8, ...], ...},\n",
              " {part_px: [-19.8, -11.1, ..., 0.0862], part_py: [39.2, ...], ...},\n",
              " {part_px: [70.2, 22.7], part_py: [-930, -402], part_pz: [...], ...},\n",
              " {part_px: [-94.3, -19.9, ..., -0.501], part_py: [-84.1, ...], ...},\n",
              " {part_px: [78.5, 29.4, ..., 0.318, 0.285], part_py: [...], part_pz: ..., ...},\n",
              " {part_px: [-525, -330, ..., -1.53, -1.42], part_py: [...], part_pz: ..., ...},\n",
              " {part_px: [105, 82.9, ..., 0.656, 0.554], part_py: [67.5, ...], ...},\n",
              " ...,\n",
              " {part_px: [-48.4, -28.4, ..., -0.761], part_py: [-162, ...], ...},\n",
              " {part_px: [40.2, 40.7, ..., 0.123, 0.317], part_py: [...], part_pz: ..., ...},\n",
              " {part_px: [-27.4, -33.1, ..., -0.134], part_py: [51.8, ...], ...},\n",
              " {part_px: [-36, -21.6, ..., -0.438], part_py: [-67.8, ...], part_pz: ..., ...},\n",
              " {part_px: [23.6, 21.2, ..., 0.422, 0.702], part_py: [...], part_pz: ..., ...},\n",
              " {part_px: [-264, -25.3, ..., -0.126], part_py: [-830, ...], part_pz: ..., ...},\n",
              " {part_px: [513, 274, ..., 0.901, 0.853], part_py: [-173, ...], ...},\n",
              " {part_px: [187, 37.9, ..., 0.904, 0.401], part_py: [44.1, ...], ...},\n",
              " {part_px: [-40.7, -36.8, ..., -0.188], part_py: [-134, ...], ...}]\n",
              "--------------------------------------------------------------------------------\n",
              "backend: cpu\n",
              "nbytes: 572.3 kB\n",
              "type: 100 * {\n",
              "    part_px: var * float32,\n",
              "    part_py: var * float32,\n",
              "    part_pz: var * float32,\n",
              "    part_energy: var * float32,\n",
              "    part_deta: var * float32,\n",
              "    part_dphi: var * float32,\n",
              "    part_d0val: var * float32,\n",
              "    part_d0err: var * float32,\n",
              "    part_dzval: var * float32,\n",
              "    part_dzerr: var * float32,\n",
              "    ...\n",
              "}</pre>"
            ],
            "text/plain": [
              "<Array [{part_px: [...], ...}, ..., {...}] type='100 * {part_px: var * floa...'>"
            ]
          },
          "metadata": {},
          "execution_count": 2
        }
      ],
      "source": [
        "import awkward as ak\n",
        "\n",
        "arrays = ak.from_parquet(\"JetClassII_example.parquet\")\n",
        "arrays"
      ]
    },
    {
      "cell_type": "markdown",
      "metadata": {
        "id": "RSOYlIikx0Sq"
      },
      "source": [
        "The entries are jet-based. Each entry includes\n",
        "\n",
        " - the jet features (`jet_*`),\n",
        " - the jet constituent's features (`part_*`),\n",
        " - the GEN-jet features (`genjet_*`) if a matched GEN-jet is found, and\n",
        " - the GEN-jet constituent's features (`genpart_*`).\n",
        " - auxiliary features for selected truth particles (`aux_genpart_*`)\n",
        "\n",
        "Display the content of each branch."
      ]
    },
    {
      "cell_type": "code",
      "execution_count": 3,
      "metadata": {
        "colab": {
          "base_uri": "https://localhost:8080/"
        },
        "id": "ZRuBiTfJx0Sr",
        "outputId": "57dfd7bc-ca7e-4093-b8b9-2fc511a14922"
      },
      "outputs": [
        {
          "output_type": "stream",
          "name": "stdout",
          "text": [
            "part_px :  [[-202, -140, -76.9, -49.3, -44.9, ..., -0.866, -0.597, -0.563, -0.491], ...]\n",
            "part_py :  [[29, -104, -2.95, -1.38, -1.01, ..., -0.175, 0.213, 0.322, 0.19, -0.253], ...]\n",
            "part_pz :  [[-44, -65.4, -54.7, -34.4, -32.4, ..., -0.474, -0.289, 0.0158, -0.752], ...]\n",
            "part_energy :  [[209, 186, 94.5, 60.2, 55.4, 51.3, ..., 0.954, 1.01, 0.737, 0.594, 0.933], ...]\n",
            "part_deta :  [[-0.232, -0.0793, 0.215, 0.204, ..., 0.0635, -0.0315, -0.473, 0.669], ...]\n",
            "part_dphi :  [[-0.251, 0.529, -0.07, -0.0804, ..., -0.349, -0.604, -0.434, 0.368], ...]\n",
            "part_d0val :  [[0.00359, -0.0036, -0.0101, 0.0104, 0, -0.00337, ..., 0, 0, 0, 0, 0], ...]\n",
            "part_d0err :  [[0.011, 0.011, 0.011, 0.0116, 0, 0.0116, ..., 0.0926, 0, 0, 0, 0, 0], ...]\n",
            "part_dzval :  [[-0.0224, 0.0094, -0.00443, -0.0521, 0, -0.00956, ..., 0, 0, 0, 0, 0], ...]\n",
            "part_dzerr :  [[0.0318, 0.0318, 0.0316, 0.0316, 0, 0.0348, ..., 0.198, 0, 0, 0, 0, 0], ...]\n",
            "part_charge :  [[1, -1, 1, -1, 0, -1, 1, -1, 1, 1, 1, ..., 0, 0, 0, 0, -1, 0, 0, 0, 0, 0], ...]\n",
            "part_isElectron :  [[True, True, False, False, False, ..., False, False, False, False, False], ...]\n",
            "part_isMuon :  [[False, False, False, False, False, ..., False, False, False, False], ...]\n",
            "part_isPhoton :  [[False, False, False, False, True, ..., True, True, True, True, True], ...]\n",
            "part_isChargedHadron :  [[False, False, True, True, False, ..., False, False, False, False, False], ...]\n",
            "part_isNeutralHadron :  [[False, False, False, False, False, ..., False, False, False, False], ...]\n",
            "jet_pt :  [717, 258, 210, 290, 202, 1.34e+03, ..., 518, 499, 1.29e+03, 1.64e+03, 385, 450]\n",
            "jet_eta :  [-0.446, 1.27, -1.12, 0.516, -0.259, ..., -1.12, 1, -0.154, -0.0162, -1.69]\n",
            "jet_phi :  [-3.03, -0.761, -2.84, -1.93, 2.41, ..., 0.954, -1.85, -0.341, 0.453, -2.05]\n",
            "jet_energy :  [837, 504, 367, 331, 225, 1.63e+03, ..., 869, 2e+03, 1.67e+03, 408, 1.28e+03]\n",
            "jet_sdmass :  [275, 50.1, 89.6, 38.6, 83.5, 100, 116, ..., 190, 202, 97.8, 30.4, 136, 169]\n",
            "jet_nparticles :  [42, 53, 34, 25, 42, 2, 35, 24, 20, 55, ..., 38, 68, 58, 82, 56, 30, 31, 23, 52]\n",
            "jet_tau1 :  [0.416, 0.321, 0.366, 0.148, 0.463, ..., 0.429, 0.0521, 0.0386, 0.347, 0.307]\n",
            "jet_tau2 :  [0.245, 0.181, 0.21, 0.0745, 0.0869, ..., 0.279, 0.0121, 0.0232, 0.0989, 0.115]\n",
            "jet_tau3 :  [0.0513, 0.148, 0.111, 0.0399, 0.0613, ..., 0.00953, 0.0127, 0.0339, 0.0869]\n",
            "jet_tau4 :  [0.0377, 0.104, 0.0472, 0.0295, 0.0568, ..., 0.00774, 0.00831, 0.0252, 0.0616]\n",
            "jet_label :  [92, 28, 31, 102, 60, 11, 99, 62, 187, ..., 73, 130, 71, 33, 3, 187, 113, 49]\n",
            "genpart_px :  [[-201, -140, -73.9, -47.4, -40.4, ..., -0.151, -0.133, -0.0684, -0.00421], ...]\n",
            "genpart_py :  [[28.9, -104, -2.83, -1.32, ..., -0.00632, 0.00145, -0.00149, 0.00036], ...]\n",
            "genpart_pz :  [[-36.9, -59.6, -50, -31.4, ..., 0.0412, -0.0167, -0.078, -0.000644], ...]\n",
            "genpart_energy :  [[207, 185, 89.3, 56.9, 48.5, ..., 0.158, 0.156, 0.134, 0.104, 0.00428], ...]\n",
            "genpart_jet_deta :  [[-0.266, -0.111, 0.187, 0.176, 0.175, ..., -0.716, -0.321, 0.531, -0.295], ...]\n",
            "genpart_jet_dphi :  [[-0.251, 0.529, -0.07, -0.0804, ..., -0.0664, -0.119, -0.0865, -0.194], ...]\n",
            "genpart_x :  [[0, 0, 0, 0, 0, 0, ..., -0.000797, 0, -8.97e-05, -0.000326, -8.97e-05, 0], ...]\n",
            "genpart_y :  [[0, 0, 0, 0, 0, 0, ..., 0.000287, 0, -3.15e-06, 8.19e-05, -3.15e-06, 0], ...]\n",
            "genpart_z :  [[0, 0, 0, 0, 0, 0, ..., -0.00037, 0, -1.53e-05, -9.92e-05, -1.53e-05, 0], ...]\n",
            "genpart_t :  [[0, 0, 0, 0, 0, 0, ..., 3.08e-15, 0, 3.47e-16, 1.17e-15, 3.47e-16, 0], ...]\n",
            "genpart_pid :  [[-11, 11, 321, -321, -211, 321, 22, ..., -321, 22, 22, 22, 22, 22, 22], ...]\n",
            "genjet_pt :  [724, 303, 247, 458, 302, 1.34e+03, ..., 557, 553, 1.44e+03, 3.42e+03, 396, 523]\n",
            "genjet_eta :  [-0.447, 1.36, -1.16, 0.574, -0.185, ..., -1.06, 1, -0.158, -0.015, -1.67]\n",
            "genjet_phi :  [-3.03, -0.752, -2.87, -1.96, 2.53, ..., 0.966, -1.85, -0.338, 0.463, -2.09]\n",
            "genjet_energy :  [846, 641, 449, 543, 329, 1.64e+03, ..., 928, 2.22e+03, 3.47e+03, 418, 1.45e+03]\n",
            "genjet_sdmass :  [282, 110, 117, 59.5, 118, 100, 119, ..., 199, 208, 234, 98.4, 32.9, 133, 225]\n",
            "genjet_nparticles :  [63, 86, 60, 48, 71, 13, 64, 41, 42, ..., 64, 91, 68, 110, 83, 52, 77, 38, 73]\n",
            "aux_genpart_pt :  [[867, 529, 350, 302, 304, 175, 203], ..., [526, 216, 324, ..., 118, 285, 40.5]]\n",
            "aux_genpart_eta :  [[-0.491, -0.615, -0.272, -0.454, -0.628, -0.335, -0.181], ..., [-1.68, ...]]\n",
            "aux_genpart_phi :  [[-2.72, -2.59, -2.93, -2.08, -3.1, -2.5, 3], ..., [-2.09, -2.37, ..., -2.22]]\n",
            "aux_genpart_mass :  [[495, 303, 146, 0.5, 0.5, 0.000511, 0.000511], ..., [230, 94.4, ..., 0.33]]\n",
            "aux_genpart_pid :  [[25, 35, 35, 3, -3, 11, -11], [25, ..., -2], ..., [25, 37, -37, -3, 2, 3, -2]]\n",
            "aux_genpart_isResX :  [[True, False, False, False, False, False, False], ..., [True, ..., False]]\n",
            "aux_genpart_isResY :  [[False, True, True, False, False, False, False], ..., [False, ..., False]]\n",
            "aux_genpart_isResDecayProd :  [[False, False, False, True, True, True, True], ..., [False, False, ..., True]]\n",
            "aux_genpart_isTauDecayProd :  [[False, False, False, False, False, False, False], ..., [False, ..., False]]\n",
            "aux_genpart_isQcdParton :  [[False, False, False, False, False, False, False], ..., [False, ..., False]]\n"
          ]
        }
      ],
      "source": [
        "for branch in arrays.fields:\n",
        "    print(branch, ': ', arrays[branch])"
      ]
    },
    {
      "cell_type": "markdown",
      "metadata": {
        "id": "Iyz3miF9x0Ss"
      },
      "source": [
        "# Visualizing JetClass-II\n",
        "\n",
        "Let's visualize the jet and the matched GEN-jet as point clouds."
      ]
    },
    {
      "cell_type": "code",
      "execution_count": 4,
      "metadata": {
        "id": "ucv6V3X0x0Ss"
      },
      "outputs": [],
      "source": [
        "import matplotlib.pyplot as plt\n",
        "import matplotlib as mpl\n",
        "\n",
        "import numpy as np\n",
        "\n",
        "label_list = [\"label_X_bb\", \"label_X_cc\", \"label_X_ss\", \"label_X_qq\", \"label_X_bc\", \"label_X_cs\", \"label_X_bq\", \"label_X_cq\", \"label_X_sq\", \"label_X_gg\", \"label_X_ee\", \"label_X_mm\", \"label_X_tauhtaue\", \"label_X_tauhtaum\", \"label_X_tauhtauh\", \"label_X_YY_bbbb\", \"label_X_YY_bbcc\", \"label_X_YY_bbss\", \"label_X_YY_bbqq\", \"label_X_YY_bbgg\", \"label_X_YY_bbee\", \"label_X_YY_bbmm\", \"label_X_YY_bbtauhtaue\", \"label_X_YY_bbtauhtaum\", \"label_X_YY_bbtauhtauh\", \"label_X_YY_bbb\", \"label_X_YY_bbc\", \"label_X_YY_bbs\", \"label_X_YY_bbq\", \"label_X_YY_bbg\", \"label_X_YY_bbe\", \"label_X_YY_bbm\", \"label_X_YY_cccc\", \"label_X_YY_ccss\", \"label_X_YY_ccqq\", \"label_X_YY_ccgg\", \"label_X_YY_ccee\", \"label_X_YY_ccmm\", \"label_X_YY_cctauhtaue\", \"label_X_YY_cctauhtaum\", \"label_X_YY_cctauhtauh\", \"label_X_YY_ccb\", \"label_X_YY_ccc\", \"label_X_YY_ccs\", \"label_X_YY_ccq\", \"label_X_YY_ccg\", \"label_X_YY_cce\", \"label_X_YY_ccm\", \"label_X_YY_ssss\", \"label_X_YY_ssqq\", \"label_X_YY_ssgg\", \"label_X_YY_ssee\", \"label_X_YY_ssmm\", \"label_X_YY_sstauhtaue\", \"label_X_YY_sstauhtaum\", \"label_X_YY_sstauhtauh\", \"label_X_YY_ssb\", \"label_X_YY_ssc\", \"label_X_YY_sss\", \"label_X_YY_ssq\", \"label_X_YY_ssg\", \"label_X_YY_sse\", \"label_X_YY_ssm\", \"label_X_YY_qqqq\", \"label_X_YY_qqgg\", \"label_X_YY_qqee\", \"label_X_YY_qqmm\", \"label_X_YY_qqtauhtaue\", \"label_X_YY_qqtauhtaum\", \"label_X_YY_qqtauhtauh\", \"label_X_YY_qqb\", \"label_X_YY_qqc\", \"label_X_YY_qqs\", \"label_X_YY_qqq\", \"label_X_YY_qqg\", \"label_X_YY_qqe\", \"label_X_YY_qqm\", \"label_X_YY_gggg\", \"label_X_YY_ggee\", \"label_X_YY_ggmm\", \"label_X_YY_ggtauhtaue\", \"label_X_YY_ggtauhtaum\", \"label_X_YY_ggtauhtauh\", \"label_X_YY_ggb\", \"label_X_YY_ggc\", \"label_X_YY_ggs\", \"label_X_YY_ggq\", \"label_X_YY_ggg\", \"label_X_YY_gge\", \"label_X_YY_ggm\", \"label_X_YY_bee\", \"label_X_YY_cee\", \"label_X_YY_see\", \"label_X_YY_qee\", \"label_X_YY_gee\", \"label_X_YY_bmm\", \"label_X_YY_cmm\", \"label_X_YY_smm\", \"label_X_YY_qmm\", \"label_X_YY_gmm\", \"label_X_YY_btauhtaue\", \"label_X_YY_ctauhtaue\", \"label_X_YY_stauhtaue\", \"label_X_YY_qtauhtaue\", \"label_X_YY_gtauhtaue\", \"label_X_YY_btauhtaum\", \"label_X_YY_ctauhtaum\", \"label_X_YY_stauhtaum\", \"label_X_YY_qtauhtaum\", \"label_X_YY_gtauhtaum\", \"label_X_YY_btauhtauh\", \"label_X_YY_ctauhtauh\", \"label_X_YY_stauhtauh\", \"label_X_YY_qtauhtauh\", \"label_X_YY_gtauhtauh\", \"label_X_YY_qqqb\", \"label_X_YY_qqqc\", \"label_X_YY_qqqs\", \"label_X_YY_bbcq\", \"label_X_YY_ccbs\", \"label_X_YY_ccbq\", \"label_X_YY_ccsq\", \"label_X_YY_sscq\", \"label_X_YY_qqbc\", \"label_X_YY_qqbs\", \"label_X_YY_qqcs\", \"label_X_YY_bcsq\", \"label_X_YY_bcs\", \"label_X_YY_bcq\", \"label_X_YY_bsq\", \"label_X_YY_csq\", \"label_X_YY_bcev\", \"label_X_YY_csev\", \"label_X_YY_bqev\", \"label_X_YY_cqev\", \"label_X_YY_sqev\", \"label_X_YY_qqev\", \"label_X_YY_bcmv\", \"label_X_YY_csmv\", \"label_X_YY_bqmv\", \"label_X_YY_cqmv\", \"label_X_YY_sqmv\", \"label_X_YY_qqmv\", \"label_X_YY_bctauev\", \"label_X_YY_cstauev\", \"label_X_YY_bqtauev\", \"label_X_YY_cqtauev\", \"label_X_YY_sqtauev\", \"label_X_YY_qqtauev\", \"label_X_YY_bctaumv\", \"label_X_YY_cstaumv\", \"label_X_YY_bqtaumv\", \"label_X_YY_cqtaumv\", \"label_X_YY_sqtaumv\", \"label_X_YY_qqtaumv\", \"label_X_YY_bctauhv\", \"label_X_YY_cstauhv\", \"label_X_YY_bqtauhv\", \"label_X_YY_cqtauhv\", \"label_X_YY_sqtauhv\", \"label_X_YY_qqtauhv\", \"label_QCD_bbccss\", \"label_QCD_bbccs\", \"label_QCD_bbcc\", \"label_QCD_bbcss\", \"label_QCD_bbcs\", \"label_QCD_bbc\", \"label_QCD_bbss\", \"label_QCD_bbs\", \"label_QCD_bb\", \"label_QCD_bccss\", \"label_QCD_bccs\", \"label_QCD_bcc\", \"label_QCD_bcss\", \"label_QCD_bcs\", \"label_QCD_bc\", \"label_QCD_bss\", \"label_QCD_bs\", \"label_QCD_b\", \"label_QCD_ccss\", \"label_QCD_ccs\", \"label_QCD_cc\", \"label_QCD_css\", \"label_QCD_cs\", \"label_QCD_c\", \"label_QCD_ss\", \"label_QCD_s\", \"label_QCD_light\"]\n",
        "\n",
        "def color_fader(c1, c2, mix=0): # linear interpolate from color c1 (mix=0) to c2 (mix=1)\n",
        "    assert 0 <= mix <= 1\n",
        "    c1 = np.array(mpl.colors.to_rgb(c1))\n",
        "    c2 = np.array(mpl.colors.to_rgb(c2))\n",
        "    return mpl.colors.to_hex((1-mix)*c1 + mix*c2)\n",
        "\n",
        "def visualize_jet(ax, arr, is_genjet=True):\n",
        "    # part_type: 0: electron, 1: muon, 2: photon, 3: charged had, 4: neutral had\n",
        "    if not is_genjet:\n",
        "        jet_prefix, part_prefix = 'jet', 'part'\n",
        "        part_disp = np.hypot(arr['part_d0val'], arr['part_dzval']) # an estimation of displacement\n",
        "        part_type = ak.argmax([\n",
        "            arr['part_isElectron'],\n",
        "            arr['part_isMuon'],\n",
        "            arr['part_isPhoton'],\n",
        "            arr['part_isChargedHadron'],\n",
        "            arr['part_isNeutralHadron']\n",
        "        ], axis=0)\n",
        "    else:\n",
        "        jet_prefix, part_prefix = 'genjet', 'genpart'\n",
        "        part_disp = np.sqrt(arr['genpart_x']**2 + arr['genpart_y']**2 + arr['genpart_z']**2)\n",
        "        part_type = ak.argmax([\n",
        "            abs(arr['genpart_pid']) == 11,\n",
        "            abs(arr['genpart_pid']) == 13,\n",
        "            arr['genpart_pid'] == 22,\n",
        "            (abs(arr['genpart_pid']) == 211) | (abs(arr['genpart_pid']) == 321) | (abs(arr['genpart_pid']) == 2212),\n",
        "            (arr['genpart_pid'] == 130) | (arr['genpart_pid'] == 310) | (arr['genpart_pid'] == 2112)\n",
        "        ], axis=0)\n",
        "    radius_fn = lambda pt: np.sqrt(pt) / 200\n",
        "\n",
        "    # draw particles\n",
        "    for i in range(arr[f\"{jet_prefix}_nparticles\"]):\n",
        "        if not is_genjet:\n",
        "            px, py, deta, dphi = map(lambda x: arr[f\"part_{x}\"][i], ['px', 'py', 'deta', 'dphi'])\n",
        "        else:\n",
        "            px, py, deta, dphi = map(lambda x: arr[f\"genpart_{x}\"][i], ['px', 'py', 'jet_deta', 'jet_dphi'])\n",
        "        pt = np.hypot(px, py)\n",
        "\n",
        "        color = color_fader('#74c476', '#081d58', mix=np.tanh(part_disp[i]))\n",
        "        if part_type[i] == 0: # electrons\n",
        "            ax.add_patch(mpl.patches.RegularPolygon((deta, dphi), 3, radius=radius_fn(pt), clip_on=True, alpha=0.3, edgecolor='black', facecolor=color))\n",
        "        elif part_type[i] == 1: # muons\n",
        "            ax.add_patch(mpl.patches.RegularPolygon((deta, dphi), 3, radius=radius_fn(pt), orientation=np.pi, clip_on=True, alpha=0.3, edgecolor='black', facecolor=color))\n",
        "        elif part_type[i] == 2: # photons\n",
        "            ax.add_patch(mpl.patches.RegularPolygon((deta, dphi), 5, radius=radius_fn(pt), clip_on=True, alpha=0.3, edgecolor=color, facecolor='none'))\n",
        "        elif part_type[i] == 3: # charged hadrons\n",
        "            ax.add_patch(plt.Circle((deta, dphi), radius_fn(pt), clip_on=True, alpha=0.3, facecolor=color))\n",
        "        elif part_type[i] == 4: # neutral hadrons\n",
        "            ax.add_patch(plt.Circle((deta, dphi), radius_fn(pt), clip_on=True, alpha=0.3, edgecolor=color, facecolor='none'))\n",
        "\n",
        "        # if is_genjet:\n",
        "        #     ax.text(deta, dphi, str(arr.genpart_pid[i]), ha='center', va='center', fontsize=4) # annotate particle PDGIDs\n",
        "\n",
        "    # auxiliary truth particles if this is a genjet\n",
        "    if is_genjet:\n",
        "        for i in range(len(arr[\"aux_genpart_pt\"])):\n",
        "            color = 'yellow' if arr.aux_genpart_isResX[i] else 'gold' if arr.aux_genpart_isResY[i] else 'orange' if arr.aux_genpart_isResDecayProd[i] else None\n",
        "            if color is None:\n",
        "                continue\n",
        "            pt = arr.aux_genpart_pt[i]\n",
        "            deta = np.sign(arr.jet_eta) * (arr.aux_genpart_eta[i] - arr.jet_eta)\n",
        "            dphi = (arr.aux_genpart_phi[i] - arr.jet_phi + np.pi) % (2*np.pi) - np.pi\n",
        "            pid = arr.aux_genpart_pid[i]\n",
        "            if abs(deta) > 0.8 or abs(dphi) > 0.8:\n",
        "                continue\n",
        "\n",
        "            # draw squares for auxiliary particles\n",
        "            ax.add_patch(mpl.patches.RegularPolygon((deta, dphi), 4, radius=radius_fn(pt), clip_on=True, alpha=0.2, facecolor=color))\n",
        "            ax.text(deta, dphi, str(pid), ha='center', va='center', fontsize=5) # annotate particle PDGIDs\n",
        "\n",
        "    ax.set_xlabel(r'$\\Delta\\eta$'); ax.set_ylabel(r'$\\Delta\\phi$')\n",
        "    ax.set_xlim(-0.8, 0.8); ax.set_ylim(-0.8, 0.8)\n",
        "    ax.set_aspect('equal')\n",
        "\n",
        "    # annotate basic info\n",
        "    ax.text(0.02, 0.98, r'$\\mathbf{%s}$ $p_{\\rm T}$: %.0f GeV, $m_{\\rm SD}$: %.0f GeV' % (jet_prefix, arr[f\"{jet_prefix}_pt\"], arr[f\"{jet_prefix}_sdmass\"]), ha='left', va='top', transform=ax.transAxes)\n",
        "    if not is_genjet:\n",
        "        ax.text(0.02, 0.91, r'truth label: %s' % label_list[arr[f\"{jet_prefix}_label\"]][6:], ha='left', va='top', transform=ax.transAxes)"
      ]
    },
    {
      "cell_type": "markdown",
      "metadata": {
        "id": "o5WEfHG3x0St"
      },
      "source": [
        "Left subplot: jet, right subplot: matched GEN-jet\n",
        "\n",
        "Note:\n",
        " - Hadrons = **circles**; electrons/muons = **triangles** (upward/downward); photons = **pentagons**.\n",
        " - Charged particles = **solid** markers; neutral particles = **hollow** markers.\n",
        " - Larger displacement -> more **blue**.\n",
        "\n",
        "For GEN-jet:\n",
        " - the GEN resonances (X, Y) = **(yellow, gold) squares**; decay products = **orange squares**, PDGIDs annotated."
      ]
    },
    {
      "cell_type": "code",
      "execution_count": 5,
      "metadata": {
        "colab": {
          "base_uri": "https://localhost:8080/",
          "height": 441
        },
        "id": "uETr_Rf1x0St",
        "outputId": "2a645fa8-04b3-4951-d4d3-6654f622dca1"
      },
      "outputs": [
        {
          "output_type": "display_data",
          "data": {
            "text/plain": [
              "<Figure size 1000x500 with 2 Axes>"
            ],
            "image/png": "[encoded data removed]"
          },
          "metadata": {}
        }
      ],
      "source": [
        "i = 1  # draw entry number i\n",
        "\n",
        "f, (ax1, ax2) = plt.subplots(1, 2, figsize=(10, 5))\n",
        "visualize_jet(ax1, arrays[i], is_genjet=False)\n",
        "visualize_jet(ax2, arrays[i], is_genjet=True)\n",
        "plt.show()"
      ]
    },
    {
      "cell_type": "markdown",
      "metadata": {
        "id": "-6R-_5Fxx0Su"
      },
      "source": [
        "# Inferring Sophon model\n",
        "\n",
        "Download the Sophon ONNX model from Hugging Face."
      ]
    },
    {
      "cell_type": "code",
      "execution_count": 8,
      "metadata": {
        "colab": {
          "base_uri": "https://localhost:8080/"
        },
        "id": "4hR1KRD8y39d",
        "outputId": "e97a3ef9-4ce8-432b-acf6-70c7fde785f2"
      },
      "outputs": [
        {
          "output_type": "stream",
          "name": "stdout",
          "text": [
            "2025-07-17 23:18:07 URL:https://cdn-lfs-us-1.hf.co/repos/4a/b9/4ab947e5de3182c3f0fe6225553fb30b989aabcea1ec7f653a4c814f62f36c41/f54e9fd56b12e22ef4266e40b683dbf8533139b55cdab1b1c127d6e7cb8e2fd4?response-content-disposition=inline%3B+filename*%3DUTF-8%27%27model.onnx%3B+filename%3D%22model.onnx%22%3B&Expires=1752797886&Policy=eyJTdGF0ZW1lbnQiOlt7IkNvbmRpdGlvbiI6eyJEYXRlTGVzc1RoYW4iOnsiQVdTOkVwb2NoVGltZSI6MTc1Mjc5Nzg4Nn19LCJSZXNvdXJjZSI6Imh0dHBzOi8vY2RuLWxmcy11cy0xLmhmLmNvL3JlcG9zLzRhL2I5LzRhYjk0N2U1ZGUzMTgyYzNmMGZlNjIyNTU1M2ZiMzBiOTg5YWFiY2VhMWVjN2Y2NTNhNGM4MTRmNjJmMzZjNDEvZjU0ZTlmZDU2YjEyZTIyZWY0MjY2ZTQwYjY4M2RiZjg1MzMxMzliNTVjZGFiMWIxYzEyN2Q2ZTdjYjhlMmZkND9yZXNwb25zZS1jb250ZW50LWRpc3Bvc2l0aW9uPSoifV19&Signature=H-ndHNOaGCQhSPmRvDqNjlNChmvu9uuE0z-csIKLt%7Ee%7ErS5QuqpneqN9yDyq9tFL1o38%7EdhJzvmg4weJGpEoTjB2%7EEourkCD%7EPp65i9hCIbbjxkVtitkZoN%7EjMDtnJ40ILzzWjne8PVYgPdqrSxEilsvIUW4ACSR6l3ZE0IECOPGIez9wEX9sjDEZQwfyFAsUo3LjwTW9BsjXLkpR6Vp8RgAocyZ9hfeQkrLnhYziUreDjs34kTNe8qSFC1DiHVkwTI5GbvYcTuybpzk%7ExdLPBrIF1S0yLsEMHcgZp3PD7J9egtF6dlUwMUf25pdxTLqh8LcowZcpbU4uOtYRbk-Zw__&Key-Pair-Id=K24J24Z295AEI9 [9328171/9328171] -> \"JetClassII_Sophon.onnx\" [1]\n"
          ]
        }
      ],
      "source": [
        "! wget --no-verbose https://huggingface.co/jet-universe/sophon/resolve/main/models/JetClassII_Sophon/model.onnx -O JetClassII_Sophon.onnx"
      ]
    },
    {
      "cell_type": "markdown",
      "source": [
        "Start an ONNX Runtime session."
      ],
      "metadata": {
        "id": "iAV3SxP7xW-F"
      }
    },
    {
      "cell_type": "code",
      "execution_count": 9,
      "metadata": {
        "id": "8w8jidTPx0Su"
      },
      "outputs": [],
      "source": [
        "import onnxruntime as ort\n",
        "\n",
        "ort_sess = ort.InferenceSession('JetClassII_Sophon.onnx')"
      ]
    },
    {
      "cell_type": "markdown",
      "metadata": {
        "id": "yAzcSc2Ix0Su"
      },
      "source": [
        "Make input variables and do inference."
      ]
    },
    {
      "cell_type": "code",
      "execution_count": 10,
      "metadata": {
        "id": "vx2ysaN5x0Su"
      },
      "outputs": [],
      "source": [
        "def make_input_feats(arr):\n",
        "    # calculate all input features to the Sophon model\n",
        "    input_feats = {}\n",
        "\n",
        "    # existing variables\n",
        "    for var in ['part_deta', 'part_dphi', 'part_charge', 'part_d0err', 'part_dzerr', 'part_isElectron', 'part_isMuon', 'part_isPhoton', 'part_isChargedHadron', 'part_isNeutralHadron']:\n",
        "        input_feats[var] = ak.values_astype(arr[var], np.float32)\n",
        "    # new variables\n",
        "    input_feats['part_mask'] = ak.ones_like(arr.part_px)\n",
        "    input_feats['part_px_scale'] = arr.part_px / arr.jet_pt * 500\n",
        "    input_feats['part_py_scale'] = arr.part_py / arr.jet_pt * 500\n",
        "    input_feats['part_pz_scale'] = arr.part_pz / arr.jet_pt * 500\n",
        "    input_feats['part_energy_scale'] = arr.part_energy / arr.jet_pt * 500\n",
        "    input_feats['part_pt'] = np.hypot(arr.part_px, arr.part_py)\n",
        "    input_feats['part_pt_scale'] = np.hypot(input_feats['part_px_scale'], input_feats['part_py_scale'])\n",
        "    input_feats['part_pt_scale_log'] = np.log(input_feats['part_pt_scale'])\n",
        "    input_feats['part_e_scale_log'] = np.log(input_feats['part_energy_scale'])\n",
        "    input_feats['part_logptrel'] = np.log(input_feats['part_pt'] / arr.jet_pt)\n",
        "    input_feats['part_logerel'] = np.log(arr.part_energy / arr.jet_energy)\n",
        "    input_feats['part_deltaR'] = np.hypot(arr.part_deta, arr.part_dphi)\n",
        "    input_feats['part_d0'] = np.tanh(arr.part_d0val)\n",
        "    input_feats['part_dz'] = np.tanh(arr.part_dzval)\n",
        "\n",
        "    return input_feats\n",
        "\n",
        "\n",
        "def infer_model(input_feats, debug=False):\n",
        "    # define data structure and config\n",
        "    input_names = [\"pf_features\", \"pf_vectors\", \"pf_mask\"]\n",
        "    input_shapes = [(1, 17, 128), (1, 4, 128), (1, 1, 128)] # (batch_size=1, channel, length)\n",
        "    input_var_info = [ # (name, subtract_val, multiply_val, clip_min, clip_max)\n",
        "        [\n",
        "            (\"part_pt_scale_log\", 1.7, 0.7, -5, 5),\n",
        "            (\"part_e_scale_log\", 2.0, 0.7, -5, 5),\n",
        "            (\"part_logptrel\", -4.7, 0.7, -5, 5),\n",
        "            (\"part_logerel\", -4.7, 0.7, -5, 5),\n",
        "            (\"part_deltaR\", 0.2, 4.0, -5, 5),\n",
        "            (\"part_charge\", 0, 1, -1e8, 1e8),\n",
        "            (\"part_isChargedHadron\", 0, 1, -1e8, 1e8),\n",
        "            (\"part_isNeutralHadron\", 0, 1, -1e8, 1e8),\n",
        "            (\"part_isPhoton\", 0, 1, -1e8, 1e8),\n",
        "            (\"part_isElectron\", 0, 1, -1e8, 1e8),\n",
        "            (\"part_isMuon\", 0, 1, -1e8, 1e8),\n",
        "            (\"part_d0\", 0, 1, -1e8, 1e8),\n",
        "            (\"part_d0err\", 0, 1, 0, 1),\n",
        "            (\"part_dz\", 0, 1, -1e8, 1e8),\n",
        "            (\"part_dzerr\", 0, 1, 0, 1),\n",
        "            (\"part_deta\", 0, 1, -1e8, 1e8),\n",
        "            (\"part_dphi\", 0, 1, -1e8, 1e8),\n",
        "        ],\n",
        "        [\n",
        "            (\"part_px_scale\", 0, 1, -1e8, 1e8),\n",
        "            (\"part_py_scale\", 0, 1, -1e8, 1e8),\n",
        "            (\"part_pz_scale\", 0, 1, -1e8, 1e8),\n",
        "            (\"part_energy_scale\", 0, 1, -1e8, 1e8),\n",
        "        ],\n",
        "        [\n",
        "            (\"part_mask\", 0, 1, -1e8, 1e8),\n",
        "        ],\n",
        "    ]\n",
        "\n",
        "    input = {name: [] for name in input_names}\n",
        "    for name, shape, var_info in zip(input_names, input_shapes, input_var_info):\n",
        "        if (debug):\n",
        "            print(\"====== Preprocessed input: \", name, shape, \"======\")\n",
        "        length = shape[-1]\n",
        "        for var, sub, mul, clip_min, clip_max in var_info:\n",
        "            v = ak.to_numpy(input_feats[var])\n",
        "            v = (v - sub) * mul  # variable shifting and scaling\n",
        "            v = np.pad(v, (0, length))[:length] # zero-padding to fixed length\n",
        "            v = np.clip(v, clip_min, clip_max)  # clipping\n",
        "            input[name].append(v)\n",
        "            if (debug):\n",
        "                print(' - ', var, v)\n",
        "\n",
        "        input[name] = np.stack(input[name]).reshape(shape)\n",
        "\n",
        "    # run inference\n",
        "    ort_out = ort_sess.run(None, input)\n",
        "    return ort_out[0][0]\n"
      ]
    },
    {
      "cell_type": "code",
      "execution_count": 11,
      "metadata": {
        "colab": {
          "base_uri": "https://localhost:8080/"
        },
        "id": "kSJ76Rfqx0Sv",
        "outputId": "87a765f8-7e6e-4bd8-88a2-7a7e30b7da5d"
      },
      "outputs": [
        {
          "output_type": "stream",
          "name": "stdout",
          "text": [
            "Sophon model scores (len=188): [0.00087492 0.00014806 0.00021878 0.00013643 0.00019383] ...\n",
            "Sophon model latent features (len=128): [-0.00624361  0.00927145 -0.02239747 -0.00590648 -0.01222859] ...\n"
          ]
        }
      ],
      "source": [
        "i = 1  # infer jet entry number i\n",
        "\n",
        "input_feats = make_input_feats(arrays[i])\n",
        "output = infer_model(input_feats, debug=False)\n",
        "probs, hidneurons = output[:188], output[188:]\n",
        "\n",
        "print('Sophon model scores (len=188):', probs[:5], '...')\n",
        "print('Sophon model latent features (len=128):', hidneurons[:5], '...')"
      ]
    },
    {
      "cell_type": "markdown",
      "metadata": {
        "id": "sr-b3NgQx0Sv"
      },
      "source": [
        "# Visualizing Sophon's output probabilities\n",
        "\n",
        "Given a jet entry, find the top-5 probabilities interpreted by the Sophon model, and visualize these probabilities alongside the jet's visualization."
      ]
    },
    {
      "cell_type": "code",
      "execution_count": 12,
      "metadata": {
        "id": "6de3tQQJx0Sv"
      },
      "outputs": [],
      "source": [
        "def visualize_top5_probs(ax, probs):\n",
        "    from mpl_toolkits.axes_grid1.inset_locator import inset_axes\n",
        "    axin = inset_axes(ax, width=\"20%\", height=\"20%\", loc='lower right')\n",
        "\n",
        "    top_inds = np.argsort(probs)[::-1][:5]\n",
        "    axin.barh([label_list[i][6:] for i in top_inds], probs[top_inds], color='skyblue')\n",
        "    axin.invert_yaxis()\n",
        "    axin.xaxis.tick_top()\n",
        "    axin.tick_params(axis='both', which='major', labelsize=6)\n",
        "    axin.set_title('Sophon\\'s\\nTop-5 probs', fontsize=8)"
      ]
    },
    {
      "cell_type": "code",
      "execution_count": 13,
      "metadata": {
        "colab": {
          "base_uri": "https://localhost:8080/",
          "height": 473
        },
        "id": "8-TSYKCDx0Sv",
        "outputId": "1461d424-4d7f-4cbb-d76b-836d127063db"
      },
      "outputs": [
        {
          "output_type": "display_data",
          "data": {
            "text/plain": [
              "<Figure size 500x500 with 2 Axes>"
            ],
            "image/png": "[encoded data removed]"
          },
          "metadata": {}
        }
      ],
      "source": [
        "i = 0  # draw entry number i\n",
        "\n",
        "# infer scores\n",
        "input_feats = make_input_feats(arrays[i])\n",
        "probs = infer_model(input_feats, debug=False)[:188]\n",
        "\n",
        "# make plots\n",
        "f, ax = plt.subplots(1, 1, figsize=(5, 5))\n",
        "visualize_jet(ax, arrays[i], is_genjet=False)\n",
        "visualize_top5_probs(ax, probs)\n",
        "\n",
        "plt.show()"
      ]
    },
    {
      "cell_type": "code",
      "source": [],
      "metadata": {
        "id": "LPYpWRMYrnRe"
      },
      "execution_count": null,
      "outputs": []
    }
  ],
  "metadata": {
    "colab": {
      "provenance": []
    },
    "kernelspec": {
      "display_name": "weaver-uproot5",
      "language": "python",
      "name": "python3"
    },
    "language_info": {
      "codemirror_mode": {
        "name": "ipython",
        "version": 3
      },
      "file_extension": ".py",
      "mimetype": "text/x-python",
      "name": "python",
      "nbconvert_exporter": "python",
      "pygments_lexer": "ipython3",
      "version": "3.9.19"
    }
  },
  "nbformat": 4,
  "nbformat_minor": 0
}